{
    "cells": [
        {
            "cell_type": "markdown",
            "metadata": {},
            "source": "# My Jupyter Notebook on IBM Watson Studio"
        },
        {
            "cell_type": "markdown",
            "metadata": {},
            "source": "<b>Ibrahim Ma\u00efga</b>\n\nI'm currently a science student, and I want to be a Data Scientist in the finance field."
        },
        {
            "cell_type": "markdown",
            "metadata": {},
            "source": "*I am very interested in data science because the world become increasingly data-driven. I'm also fascinated by all the insights one can draw from data.*"
        },
        {
            "cell_type": "markdown",
            "metadata": {},
            "source": "### The following code calculate the product of vatiables \"a\" and \"b\""
        },
        {
            "cell_type": "code",
            "execution_count": 14,
            "metadata": {},
            "outputs": [
                {
                    "data": {
                        "text/plain": "3"
                    },
                    "execution_count": 14,
                    "metadata": {},
                    "output_type": "execute_result"
                }
            ],
            "source": "a = 3\nb = 1 \na * b"
        },
        {
            "cell_type": "markdown",
            "metadata": {},
            "source": "<hr>\n\n|Name|Age|Sex|\n|----|---|---|\n|Chris|25|M|\n|Olivia|39|F|\n|Ibrahim|20|M|\n\n[Duck Duck Go](https://duckduckgo.com)"
        }
    ],
    "metadata": {
        "kernelspec": {
            "display_name": "Python 3.9",
            "language": "python",
            "name": "python3"
        },
        "language_info": {
            "codemirror_mode": {
                "name": "ipython",
                "version": 3
            },
            "file_extension": ".py",
            "mimetype": "text/x-python",
            "name": "python",
            "nbconvert_exporter": "python",
            "pygments_lexer": "ipython3",
            "version": "3.9.7"
        }
    },
    "nbformat": 4,
    "nbformat_minor": 1
}